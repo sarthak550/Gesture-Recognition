{
 "cells": [
  {
   "cell_type": "code",
   "execution_count": 16,
   "id": "3e42f43b-bb19-473b-add9-b02b3b5feb98",
   "metadata": {},
   "outputs": [],
   "source": [
    "import cv2\n",
    "import mediapipe as mp\n",
    "import pyautogui"
   ]
  },
  {
   "cell_type": "code",
   "execution_count": 17,
   "id": "d72da51f-b12e-4ce5-a4cd-08a806ffaa70",
   "metadata": {},
   "outputs": [
    {
     "name": "stderr",
     "output_type": "stream",
     "text": [
      "I0000 00:00:1707853948.053228       1 gl_context.cc:344] GL version: 2.1 (2.1 Metal - 88), renderer: Apple M2\n"
     ]
    }
   ],
   "source": [
    "mp_hands = mp.solutions.hands\n",
    "hands = mp_hands.Hands()\n",
    "\n",
    "mp_drawing = mp.solutions.drawing_utils\n",
    "\n",
    "screen_width, screen_height = pyautogui.size()"
   ]
  },
  {
   "cell_type": "code",
   "execution_count": 18,
   "id": "a65d41dc-3abf-40c7-9714-3705860e67ed",
   "metadata": {},
   "outputs": [
    {
     "data": {
      "text/plain": [
       "<module 'mediapipe.python.solutions.hands' from '/Library/Frameworks/Python.framework/Versions/3.10/lib/python3.10/site-packages/mediapipe/python/solutions/hands.py'>"
      ]
     },
     "execution_count": 18,
     "metadata": {},
     "output_type": "execute_result"
    }
   ],
   "source": [
    "mp_hands"
   ]
  },
  {
   "cell_type": "code",
   "execution_count": 19,
   "id": "3ff986d8-cb8a-4bce-a1e4-3bf833ca0f0a",
   "metadata": {},
   "outputs": [],
   "source": [
    "cap = cv2.VideoCapture(0)\n",
    "prev_x = None\n",
    "prev_y = None"
   ]
  },
  {
   "cell_type": "code",
   "execution_count": 20,
   "id": "0355cd2b-dd9f-472e-9753-1a24c6f4c33e",
   "metadata": {
    "scrolled": true
   },
   "outputs": [],
   "source": [
    "while cap.isOpened():\n",
    "    ret, frame = cap.read()\n",
    "\n",
    "    # mirror image\n",
    "    frame = cv2.flip(frame, 1)\n",
    "\n",
    "    # Convert to rgb --bgr is cv ka default...convert to rgb bcs mediapipe rgb me operate krta hai\n",
    "    rgb_frame = cv2.cvtColor(frame, cv2.COLOR_BGR2RGB)\n",
    "    results = hands.process(rgb_frame)  # to detect hand landmarks\n",
    "    if results.multi_hand_landmarks:  # if hands are detected\n",
    "        for landmarks in results.multi_hand_landmarks:\n",
    "            # hand check krne ko\n",
    "            handedness = results.multi_handedness[results.multi_hand_landmarks.index(landmarks)].classification[0].label\n",
    "\n",
    "            mp_drawing.draw_landmarks(frame, landmarks, mp_hands.HAND_CONNECTIONS)\n",
    "            # draws hand landmarks and connections on the frame\n",
    "            index_tip = landmarks.landmark[mp_hands.HandLandmark.INDEX_FINGER_TIP]\n",
    "            index_mid = landmarks.landmark[mp_hands.HandLandmark.INDEX_FINGER_PIP]\n",
    "\n",
    "            if handedness == \"Left\":  # left mouse\n",
    "                \n",
    "                mcp_x = landmarks.landmark[mp_hands.HandLandmark.MIDDLE_FINGER_MCP].x\n",
    "                mcp_y = landmarks.landmark[mp_hands.HandLandmark.MIDDLE_FINGER_MCP].y\n",
    "\n",
    "                cursor_x = int(mcp_x * screen_width)\n",
    "                cursor_y = int(mcp_y * screen_height)\n",
    "\n",
    "                pyautogui.moveTo(cursor_x, cursor_y, duration=0.1)\n",
    "\n",
    "                if index_tip.y >= index_mid.y:\n",
    "                    pyautogui.click()\n",
    "\n",
    "            elif handedness == \"Right\":  # right keyboard\n",
    "                x, y = int(index_tip.x * screen_width), int(index_tip.y * screen_height)\n",
    "                if prev_x is not None and prev_y is not None:\n",
    "                    dx = x - prev_x\n",
    "                    dy = y - prev_y\n",
    "\n",
    "                    if abs(dx) > abs(dy):\n",
    "                        if dx > 50:  # right\n",
    "                            pyautogui.press('right')\n",
    "                        elif dx < -50:  # left\n",
    "                            pyautogui.press('left')\n",
    "                    else:  # Vertical swipe\n",
    "                        if dy > 50:  # down\n",
    "                            pyautogui.press('down')\n",
    "                        elif dy < -50:  # up\n",
    "                            pyautogui.press('up')\n",
    "\n",
    "                prev_x = x\n",
    "                prev_y = y\n",
    "\n",
    "    cv2.imshow(\"Gesture Recognition\", frame)\n",
    "\n",
    "    if cv2.waitKey(10) & 0xFF == ord('q'):\n",
    "        break\n",
    "        \n",
    "cap.release()\n",
    "cv2.destroyAllWindows()"
   ]
  }
 ],
 "metadata": {
  "kernelspec": {
   "display_name": "Python 3 (ipykernel)",
   "language": "python",
   "name": "python3"
  },
  "language_info": {
   "codemirror_mode": {
    "name": "ipython",
    "version": 3
   },
   "file_extension": ".py",
   "mimetype": "text/x-python",
   "name": "python",
   "nbconvert_exporter": "python",
   "pygments_lexer": "ipython3",
   "version": "3.10.8"
  }
 },
 "nbformat": 4,
 "nbformat_minor": 5
}
